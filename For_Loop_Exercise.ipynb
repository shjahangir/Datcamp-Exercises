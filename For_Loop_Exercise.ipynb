{
  "nbformat": 4,
  "nbformat_minor": 0,
  "metadata": {
    "colab": {
      "name": "For_Loop_Exercise.ipynb",
      "provenance": [],
      "authorship_tag": "ABX9TyM6ExbMX2/Wy25cjzXJHq28",
      "include_colab_link": true
    },
    "kernelspec": {
      "name": "python3",
      "display_name": "Python 3"
    },
    "language_info": {
      "name": "python"
    }
  },
  "cells": [
    {
      "cell_type": "markdown",
      "metadata": {
        "id": "view-in-github",
        "colab_type": "text"
      },
      "source": [
        "<a href=\"https://colab.research.google.com/github/shjahangir/Datcamp-Exercises/blob/main/For_Loop_Exercise.ipynb\" target=\"_parent\"><img src=\"https://colab.research.google.com/assets/colab-badge.svg\" alt=\"Open In Colab\"/></a>"
      ]
    },
    {
      "cell_type": "code",
      "execution_count": null,
      "metadata": {
        "colab": {
          "base_uri": "https://localhost:8080/"
        },
        "id": "5JZ7jo04yWxG",
        "outputId": "0c10a85c-8a93-4a0a-9595-63a61837f857"
      },
      "outputs": [
        {
          "output_type": "stream",
          "name": "stdout",
          "text": [
            "the capital of spain is madrid\n",
            "the capital of france is paris\n",
            "the capital of germany is berlin\n",
            "the capital of norway is oslo\n",
            "the capital of italy is rome\n",
            "the capital of poland is warsaw\n",
            "the capital of austria is vienna\n"
          ]
        }
      ],
      "source": [
        "# Definition of dictionary\n",
        "europe = {'spain':'madrid', 'france':'paris', 'germany':'berlin',\n",
        "          'norway':'oslo', 'italy':'rome', 'poland':'warsaw', 'austria':'vienna' }\n",
        "          \n",
        "# Iterate over europe\n",
        "for x,y in europe.items():\n",
        "    print(\"the capital of \" + str(x) + \" is \" + str(y))"
      ]
    },
    {
      "cell_type": "markdown",
      "source": [
        "Loop over 1D & 2D arrays"
      ],
      "metadata": {
        "id": "3G97gTtz0JXf"
      }
    },
    {
      "cell_type": "code",
      "source": [
        "# Import numpy as np\n",
        "import numpy as np\n",
        "\n",
        "# For loop over np_height\n",
        "for x in np_height:\n",
        "    print(str(x) + \" inches\")\n",
        "\n",
        "# For loop over np_baseball\n",
        "for y in np.nditer(np_baseball):\n",
        "    print(y)"
      ],
      "metadata": {
        "id": "EHZGsbJ8ydCn"
      },
      "execution_count": null,
      "outputs": []
    },
    {
      "cell_type": "markdown",
      "source": [
        "Looping over DatFrames using iterrows"
      ],
      "metadata": {
        "id": "LYYmLNE21-YQ"
      }
    },
    {
      "cell_type": "code",
      "source": [
        "# Import cars data\n",
        "import pandas as pd\n",
        "cars = pd.read_csv('cars.csv', index_col = 0)\n",
        "\n",
        "# Iterate over rows of cars\n",
        "for lab,row in cars.iterrows():\n",
        "    print(lab)\n",
        "    print(row)"
      ],
      "metadata": {
        "id": "xi-KVGsm2Ci7",
        "colab": {
          "base_uri": "https://localhost:8080/"
        },
        "outputId": "816df524-5864-44b4-9c3d-dad2dd300a32"
      },
      "execution_count": 8,
      "outputs": [
        {
          "output_type": "stream",
          "name": "stdout",
          "text": [
            "US\n",
            "cars_per_cap              809\n",
            "country         United States\n",
            "drives_right             True\n",
            "Name: US, dtype: object\n",
            "AUS\n",
            "cars_per_cap          731\n",
            "country         Australia\n",
            "drives_right        False\n",
            "Name: AUS, dtype: object\n",
            "JAP\n",
            "cars_per_cap      588\n",
            "country         Japan\n",
            "drives_right    False\n",
            "Name: JAP, dtype: object\n",
            "IN\n",
            "cars_per_cap       18\n",
            "country         India\n",
            "drives_right    False\n",
            "Name: IN, dtype: object\n",
            "RU\n",
            "cars_per_cap       200\n",
            "country         Russia\n",
            "drives_right      True\n",
            "Name: RU, dtype: object\n",
            "MOR\n",
            "cars_per_cap         70\n",
            "country         Morocco\n",
            "drives_right       True\n",
            "Name: MOR, dtype: object\n",
            "EG\n",
            "cars_per_cap       45\n",
            "country         Egypt\n",
            "drives_right     True\n",
            "Name: EG, dtype: object\n"
          ]
        }
      ]
    },
    {
      "cell_type": "code",
      "source": [
        "# Adapt for loop\n",
        "for lab, row in cars.iterrows() :\n",
        "    print(str(lab) + \": \" + str(row['cars_per_cap']) )\n"
      ],
      "metadata": {
        "id": "ChTfufSL2HAB",
        "colab": {
          "base_uri": "https://localhost:8080/"
        },
        "outputId": "9da7ec96-d3bd-4014-ff4e-34a60bff359d"
      },
      "execution_count": 9,
      "outputs": [
        {
          "output_type": "stream",
          "name": "stdout",
          "text": [
            "US: 809\n",
            "AUS: 731\n",
            "JAP: 588\n",
            "IN: 18\n",
            "RU: 200\n",
            "MOR: 70\n",
            "EG: 45\n"
          ]
        }
      ]
    },
    {
      "cell_type": "code",
      "source": [
        "# Code for loop that adds COUNTRY column\n",
        "for lab,row in cars.iterrows():\n",
        "    cars.loc[lab, \"COUNTRY\"] = row['country'].upper()\n",
        "\n",
        "# Print cars\n",
        "print(cars)"
      ],
      "metadata": {
        "id": "fEJ_Sy1_3YaO",
        "colab": {
          "base_uri": "https://localhost:8080/"
        },
        "outputId": "630de152-52a0-4dd8-b1da-978f0f490ee5"
      },
      "execution_count": 10,
      "outputs": [
        {
          "output_type": "stream",
          "name": "stdout",
          "text": [
            "     cars_per_cap        country  drives_right        COUNTRY\n",
            "US            809  United States          True  UNITED STATES\n",
            "AUS           731      Australia         False      AUSTRALIA\n",
            "JAP           588          Japan         False          JAPAN\n",
            "IN             18          India         False          INDIA\n",
            "RU            200         Russia          True         RUSSIA\n",
            "MOR            70        Morocco          True        MOROCCO\n",
            "EG             45          Egypt          True          EGYPT\n"
          ]
        }
      ]
    },
    {
      "cell_type": "markdown",
      "source": [
        "Utilize APPLY function"
      ],
      "metadata": {
        "id": "tcdE2dku4QFN"
      }
    },
    {
      "cell_type": "code",
      "source": [
        "# Use .apply(str.upper)\n",
        "cars['COUNTRY'] = cars['country'].apply(str.upper)\n",
        "print(cars)"
      ],
      "metadata": {
        "id": "QZT3tUZx4NhL",
        "colab": {
          "base_uri": "https://localhost:8080/"
        },
        "outputId": "f5499870-e4b5-447c-9a59-1094c0c4579b"
      },
      "execution_count": 11,
      "outputs": [
        {
          "output_type": "stream",
          "name": "stdout",
          "text": [
            "     cars_per_cap        country  drives_right        COUNTRY\n",
            "US            809  United States          True  UNITED STATES\n",
            "AUS           731      Australia         False      AUSTRALIA\n",
            "JAP           588          Japan         False          JAPAN\n",
            "IN             18          India         False          INDIA\n",
            "RU            200         Russia          True         RUSSIA\n",
            "MOR            70        Morocco          True        MOROCCO\n",
            "EG             45          Egypt          True          EGYPT\n"
          ]
        }
      ]
    },
    {
      "cell_type": "code",
      "source": [
        ""
      ],
      "metadata": {
        "id": "NVk0Z12e5-sj"
      },
      "execution_count": null,
      "outputs": []
    }
  ]
}